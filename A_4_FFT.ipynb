{
  "nbformat": 4,
  "nbformat_minor": 0,
  "metadata": {
    "colab": {
      "name": "A_4_FFT.ipynb",
      "provenance": []
    },
    "kernelspec": {
      "name": "python3",
      "display_name": "Python 3"
    },
    "language_info": {
      "name": "python"
    }
  },
  "cells": [
    {
      "cell_type": "code",
      "execution_count": null,
      "metadata": {
        "colab": {
          "base_uri": "https://localhost:8080/"
        },
        "id": "jjGKrpBWCGlI",
        "outputId": "7e43db94-151a-4e38-efe3-7f71d7d1533c"
      },
      "outputs": [
        {
          "output_type": "stream",
          "name": "stdout",
          "text": [
            "Entered function is f = \n",
            " [[-6  9 -7  0  1 -3  5  0  3  1  7 -1]]\n",
            "Discrete fourier transform od f is \n",
            " [[  9.  +0.j          -4.5+21.65063509j  -4.5-21.65063509j\n",
            "  -12.  +0.j           8.  +0.j         -15.  +0.j\n",
            "   -1.  +0.j          -2.  +0.j           0.  +0.j\n",
            "   12.  +0.j           3.  +0.j         -10.  +0.j        ]]\n",
            "Runtime of the program is  0.0028487840000082087\n"
          ]
        }
      ],
      "source": [
        "import timeit\n",
        "import math \n",
        "import numpy as np\n",
        "\n",
        "\n",
        "start = timeit.default_timer()\n",
        "\n",
        "\n",
        "#Finding 3rd primitive root of unity\n",
        "roots= np.roots([1, 0, 0, -1])\n",
        "w=roots[0]\n",
        "\n",
        "\n",
        "# program body starts\n",
        "\n",
        "#DFT of A_4 matrix\n",
        "DFT_A4 =np.array([[1, 1, 1, 1, 1, 1, 1, 1, 1, 1, 1, 1], \n",
        "         [1, w, w**2, 1, w, w**2, 1, w, w**2, 1, w, w**2], \n",
        "         [1, w**2, w, 1, w**2, w, 1, w**2, w, 1, w**2, w],  \n",
        "         [1, 0, 0, 1, 0, 0, -1, 0, 0, -1, 0, 0], \n",
        "         [0, 0, -1, 0, 0, 1, 0, 0, 1, 0, 0, -1], \n",
        "         [0, -1, 0, 0, 1, 0, 0 , 1, 0, 0, -1, 0], \n",
        "         [0, -1, 0, 0, 1, 0, 0 , -1, 0, 0, 1, 0], \n",
        "         [1, 0, 0, -1, 0, 0, 1, 0, 0, -1, 0, 0], \n",
        "         [0, 0, 1, 0, 0, -1, 0, 0, 1, 0, 0, -1], \n",
        "         [0, 0, -1, 0, 0, -1, 0, 0, 1, 0, 0, 1], \n",
        "         [0, 1, 0, 0, 1, 0, 0 , -1, 0, 0, -1, 0], \n",
        "         [1, 0, 0, -1, 0, 0, -1, 0, 0, 1, 0, 0]])\n",
        "\n",
        "#Defining a function f: A_4 ->A_4\n",
        "f=np.array([ [-6],[ 9], [-7], [0], [1], [-3], [5], [0], [3], [1], [7], [-1]])\n",
        "print(f\"Entered function is f = \\n\" ,np.transpose(f))\n",
        "\n",
        "\n",
        "#Finding discrete fourier transform by performing F= DFT_A5*transpose(f)\n",
        "\n",
        "F=np.matmul(DFT_A4, f)\n",
        "\n",
        "print(f\"Discrete fourier transform od f is \\n\", np.transpose(F))\n",
        "\n",
        "stop = timeit.default_timer()\n",
        "\n",
        "# program body ends\n",
        "\n",
        "# total time taken\n",
        "print(f\"Runtime of the program is \", stop - start)\n"
      ]
    },
    {
      "cell_type": "code",
      "source": [
        "import timeit\n",
        "import math \n",
        "import numpy as np\n",
        "\n",
        "\n",
        "start = timeit.default_timer()\n",
        "roots= np.roots([1, 0, 0, -1])\n",
        "w=roots[0]\n",
        "\n",
        "\n",
        "# program body starts\n",
        "\n",
        "#DFT of A_4 matrix\n",
        "DFT_A4 =np.array([[1, 1, 1, 1, 1, 1, 1, 1, 1, 1, 1, 1], \n",
        "         [1, w, w**2, 1, w, w**2, 1, w, w**2, 1, w, w**2], \n",
        "         [1, w**2, w, 1, w**2, w, 1, w**2, w, 1, w**2, w],  \n",
        "         [1, 0, 0, 1, 0, 0, -1, 0, 0, -1, 0, 0], \n",
        "         [0, 0, -1, 0, 0, 1, 0, 0, 1, 0, 0, -1], \n",
        "         [0, -1, 0, 0, 1, 0, 0 , 1, 0, 0, -1, 0], \n",
        "         [0, -1, 0, 0, 1, 0, 0 , -1, 0, 0, 1, 0], \n",
        "         [1, 0, 0, -1, 0, 0, 1, 0, 0, -1, 0, 0], \n",
        "         [0, 0, 1, 0, 0, -1, 0, 0, 1, 0, 0, -1], \n",
        "         [0, 0, -1, 0, 0, -1, 0, 0, 1, 0, 0, 1], \n",
        "         [0, 1, 0, 0, 1, 0, 0 , -1, 0, 0, -1, 0], \n",
        "         [1, 0, 0, -1, 0, 0, -1, 0, 0, 1, 0, 0]])\n",
        "\n",
        "#D_A3 matrix\n",
        "\n",
        "D_A3 =np.array([[1 , 1 , 1 , 0, 0, 0, 0, 0, 0, 0, 0, 0], \n",
        "[1 ,  w ,  w**2 , 0, 0, 0, 0, 0, 0, 0, 0, 0], \n",
        "[1 ,  w**2 ,  w , 0, 0, 0, 0, 0, 0, 0, 0, 0], \n",
        "[0, 0, 0, 1 , 1 , 1 , 0, 0, 0, 0, 0, 0], \n",
        "[0, 0, 0, 1 ,  w,  w**2 , 0, 0, 0, 0, 0, 0], \n",
        "[0, 0, 0, 1 ,  w**2 ,  w , 0, 0, 0, 0, 0, 0], \n",
        "[0, 0, 0, 0, 0, 0, 1 , 1 , 1 , 0, 0, 0], \n",
        "[ 0, 0, 0, 0, 0, 0, 1 ,  w ,  w**2 , 0, 0, 0], \n",
        "[0, 0, 0, 0, 0, 0, 1 ,  w**2 ,  w , 0, 0, 0], \n",
        "[0, 0, 0, 0, 0, 0, 0, 0, 0, 1 , 1 , 1 ], \n",
        "[0, 0, 0, 0, 0, 0, 0, 0, 0, 1 ,  w ,  w**2 ] ,\n",
        "[0, 0, 0, 0, 0, 0, 0, 0, 0, 1 ,  w**2 ,  w ]])\n",
        "\n",
        "\n",
        "#Calculating F_A4 matrix\n",
        "\n",
        "F_A4 = np.matmul(DFT_A4, np.linalg.inv(D_A3))\n",
        "\n",
        "\n",
        "#Defining a function f: A_5 ->A_5\n",
        "f=np.array([ [-6],[ 9], [-7], [0], [1], [-3], [5], [0], [3], [1], [7], [-1]])\n",
        "print(f\"Entered function is f = \\n\" ,np.transpose(f))\n",
        "\n",
        "#Finding discrete fourier transform by performing F= DFT_A5*transpose(f)\n",
        "\n",
        "F=np.matmul(np.matmul(F_A4, D_A3), f)\n",
        "print(f\"Discrete fourier transform od f is \\n\", np.transpose(F))\n",
        "\n",
        "stop = timeit.default_timer()\n",
        "\n",
        "# program body ends\n",
        "\n",
        "# total time taken\n",
        "print(f\"Runtime of the program is \", stop - start)\n"
      ],
      "metadata": {
        "colab": {
          "base_uri": "https://localhost:8080/"
        },
        "id": "Zg4MCDt7GZq0",
        "outputId": "416e424d-2b24-4a3b-cfd1-793529f92d16"
      },
      "execution_count": null,
      "outputs": [
        {
          "output_type": "stream",
          "name": "stdout",
          "text": [
            "Entered function is f = \n",
            " [[-6  9 -7  0  1 -3  5  0  3  1  7 -1]]\n",
            "Discrete fourier transform od f is \n",
            " [[  9. -1.20185168e-15j  -4.5+2.16506351e+01j  -4.5-2.16506351e+01j\n",
            "  -12. -5.64007398e-16j   8. -1.11805099e-15j -15. -9.63617178e-16j\n",
            "   -1. -9.38470925e-17j  -2. -1.70827256e-16j   0. +4.49307856e-17j\n",
            "   12. -8.00926172e-16j   3. -3.84592537e-16j -10. -2.59675926e-15j]]\n",
            "Runtime of the program is  0.008518042000005721\n"
          ]
        }
      ]
    },
    {
      "cell_type": "code",
      "source": [
        "\n",
        "a = np.array([[1,1,1],[0,2,5],[2,5,-1]])\n",
        "np.matmul(np.linalg.inv(a), a)\n"
      ],
      "metadata": {
        "colab": {
          "base_uri": "https://localhost:8080/"
        },
        "id": "G-Nq8lcM1c59",
        "outputId": "552c7b39-55ac-4894-9317-f6eba81f1ee5"
      },
      "execution_count": null,
      "outputs": [
        {
          "output_type": "execute_result",
          "data": {
            "text/plain": [
              "array([[ 1.00000000e+00, -2.77555756e-16, -6.10622664e-16],\n",
              "       [ 0.00000000e+00,  1.00000000e+00,  2.77555756e-16],\n",
              "       [ 0.00000000e+00,  0.00000000e+00,  1.00000000e+00]])"
            ]
          },
          "metadata": {},
          "execution_count": 4
        }
      ]
    },
    {
      "cell_type": "code",
      "source": [
        "!pip install big-O\n",
        "import big_o\n",
        "#Generating random test strings of length 100\n",
        "sample_strings = lambda n: big_o.datagen.strings(100)\n",
        "#my logic to find the first non-repetitive character in the string\n",
        "def non_repetitive(sample_string):\n",
        "    string_list = list(sample_string)\n",
        "    non_repetitive_char = next((ele for ele in string_list if string_list.count(ele)==1),None)\n",
        "    return non_repetitive_char\n",
        "#Calculating the Time complexity\n",
        "best, others = big_o.big_o(non_repetitive, sample_strings,n_measures=20)\n",
        "print(best)"
      ],
      "metadata": {
        "id": "Vfz8jnoY_Bxh",
        "colab": {
          "base_uri": "https://localhost:8080/"
        },
        "outputId": "adb8139f-c42f-4718-b659-cd83b98c0862"
      },
      "execution_count": null,
      "outputs": [
        {
          "output_type": "stream",
          "name": "stdout",
          "text": [
            "Collecting big-O\n",
            "  Downloading big_O-0.10.2.tar.gz (10 kB)\n",
            "Requirement already satisfied: numpy in /usr/local/lib/python3.7/dist-packages (from big-O) (1.21.5)\n",
            "Building wheels for collected packages: big-O\n",
            "  Building wheel for big-O (setup.py) ... \u001b[?25l\u001b[?25hdone\n",
            "  Created wheel for big-O: filename=big_O-0.10.2-py3-none-any.whl size=10035 sha256=12f4c2ce7aaebdc57d23e2de746e44c33f59685feccf37b88309244ebbb2236e\n",
            "  Stored in directory: /root/.cache/pip/wheels/b6/29/d2/fb6530b47b5e4f1b5b4655e3dd53b1d609a1978cf7d6880077\n",
            "Successfully built big-O\n",
            "Installing collected packages: big-O\n",
            "Successfully installed big-O-0.10.2\n",
            "Constant: time = 2.5E-05 (sec)\n"
          ]
        }
      ]
    }
  ]
}