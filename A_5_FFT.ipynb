{
  "nbformat": 4,
  "nbformat_minor": 0,
  "metadata": {
    "colab": {
      "name": "A_5_FFT.ipynb",
      "provenance": []
    },
    "kernelspec": {
      "name": "python3",
      "display_name": "Python 3"
    },
    "language_info": {
      "name": "python"
    }
  },
  "cells": [
    {
      "cell_type": "code",
      "execution_count": null,
      "metadata": {
        "colab": {
          "base_uri": "https://localhost:8080/"
        },
        "id": "THRYNm9WLAQE",
        "outputId": "d472ec2f-5936-4085-ebe5-36781e944b4b"
      },
      "outputs": [
        {
          "output_type": "stream",
          "name": "stdout",
          "text": [
            "PermutationGroup([\n",
            "    (4)(0 1 2),\n",
            "    (0 1 2 3 4)])\n"
          ]
        },
        {
          "output_type": "execute_result",
          "data": {
            "text/plain": [
              "[{Permutation(4)},\n",
              " {Permutation(0, 1, 4),\n",
              "  Permutation(0, 2, 4),\n",
              "  Permutation(0, 3, 4),\n",
              "  Permutation(0, 4, 1),\n",
              "  Permutation(0, 4, 2),\n",
              "  Permutation(0, 4, 3),\n",
              "  Permutation(1, 2, 4),\n",
              "  Permutation(1, 3, 4),\n",
              "  Permutation(1, 4, 2),\n",
              "  Permutation(1, 4, 3),\n",
              "  Permutation(2, 3, 4),\n",
              "  Permutation(2, 4, 3),\n",
              "  Permutation(4)(0, 1, 2),\n",
              "  Permutation(4)(0, 1, 3),\n",
              "  Permutation(4)(0, 2, 1),\n",
              "  Permutation(4)(0, 2, 3),\n",
              "  Permutation(4)(0, 3, 1),\n",
              "  Permutation(4)(0, 3, 2),\n",
              "  Permutation(4)(1, 2, 3),\n",
              "  Permutation(4)(1, 3, 2)},\n",
              " {Permutation(0, 1)(2, 4),\n",
              "  Permutation(0, 1)(3, 4),\n",
              "  Permutation(0, 2)(1, 4),\n",
              "  Permutation(0, 2)(3, 4),\n",
              "  Permutation(0, 3)(1, 4),\n",
              "  Permutation(0, 3)(2, 4),\n",
              "  Permutation(0, 4)(1, 2),\n",
              "  Permutation(0, 4)(1, 3),\n",
              "  Permutation(0, 4)(2, 3),\n",
              "  Permutation(1, 2)(3, 4),\n",
              "  Permutation(1, 3)(2, 4),\n",
              "  Permutation(1, 4)(2, 3),\n",
              "  Permutation(4)(0, 1)(2, 3),\n",
              "  Permutation(4)(0, 2)(1, 3),\n",
              "  Permutation(4)(0, 3)(1, 2)},\n",
              " {Permutation(0, 1, 2, 4, 3),\n",
              "  Permutation(0, 1, 3, 2, 4),\n",
              "  Permutation(0, 1, 4, 3, 2),\n",
              "  Permutation(0, 2, 1, 3, 4),\n",
              "  Permutation(0, 2, 3, 4, 1),\n",
              "  Permutation(0, 2, 4, 1, 3),\n",
              "  Permutation(0, 3, 1, 4, 2),\n",
              "  Permutation(0, 3, 2, 1, 4),\n",
              "  Permutation(0, 3, 4, 2, 1),\n",
              "  Permutation(0, 4, 1, 2, 3),\n",
              "  Permutation(0, 4, 2, 3, 1),\n",
              "  Permutation(0, 4, 3, 1, 2)},\n",
              " {Permutation(0, 1, 2, 3, 4),\n",
              "  Permutation(0, 1, 3, 4, 2),\n",
              "  Permutation(0, 1, 4, 2, 3),\n",
              "  Permutation(0, 2, 1, 4, 3),\n",
              "  Permutation(0, 2, 3, 1, 4),\n",
              "  Permutation(0, 2, 4, 3, 1),\n",
              "  Permutation(0, 3, 1, 2, 4),\n",
              "  Permutation(0, 3, 2, 4, 1),\n",
              "  Permutation(0, 3, 4, 1, 2),\n",
              "  Permutation(0, 4, 1, 3, 2),\n",
              "  Permutation(0, 4, 2, 1, 3),\n",
              "  Permutation(0, 4, 3, 2, 1)}]"
            ]
          },
          "metadata": {},
          "execution_count": 11
        }
      ],
      "source": [
        "import timeit\n",
        "import math \n",
        "import numpy as np\n",
        "# Basic group theory package\n",
        "# https://docs.sympy.org/latest/modules/combinatorics/perm_groups.html\n",
        "from sympy.combinatorics.named_groups import AlternatingGroup\n",
        "\n",
        "start = timeit.default_timer()\n",
        "stop = timeit.default_timer()\n",
        "\n",
        "A_5 = AlternatingGroup(5)\n",
        "print(A_5)\n",
        "A_5.schreier_sims()\n",
        "A_5.basic_transversals\n",
        "A_5.conjugacy_class\n",
        "A_5.conjugacy_classes()\n"
      ]
    }
  ]
}