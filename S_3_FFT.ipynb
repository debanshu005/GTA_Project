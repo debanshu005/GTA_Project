{
  "nbformat": 4,
  "nbformat_minor": 0,
  "metadata": {
    "colab": {
      "name": "S_3_FFT.ipynb",
      "provenance": []
    },
    "kernelspec": {
      "name": "python3",
      "display_name": "Python 3"
    },
    "language_info": {
      "name": "python"
    }
  },
  "cells": [
    {
      "cell_type": "code",
      "execution_count": null,
      "metadata": {
        "colab": {
          "base_uri": "https://localhost:8080/"
        },
        "id": "l5wn2QxL4SBT",
        "outputId": "7c6aeec7-ae34-4bd8-eb44-a3a6f2144279"
      },
      "outputs": [
        {
          "output_type": "stream",
          "name": "stdout",
          "text": [
            "Entered function is f = \n",
            " [[-7]\n",
            " [ 1]\n",
            " [ 0]\n",
            " [ 3]\n",
            " [ 1]\n",
            " [-1]]\n",
            "Discrete fourier transform od f is \n",
            " [[-3.   -8.5   3.75 -3.   -9.5  -9.  ]]\n",
            "Runtime of the program is  0.010578531999996699\n"
          ]
        }
      ],
      "source": [
        "import timeit\n",
        "import math \n",
        "import numpy as np\n",
        "\n",
        "\n",
        "start = timeit.default_timer()\n",
        "\n",
        "#DFT of S_3\n",
        "DFT_S3 =np.array([[1, 1, 1, 1, 1, 1], \n",
        "                 [1, -1, 1/2, -1/2, 1/2, -1/2],\n",
        "                 [0, 0, -3/4, 3/4, 3/4, -3/4], \n",
        "                 [0, 0, -1,  -1, 1, 1],\n",
        "                 [1, -1, -1/2, -1/2, -1/2, -1/2],\n",
        "                 [1, -1, 1, -1, 1, -1]])\n",
        "\n",
        "#Defining a function f: S_3 -> S_3\n",
        "f=np.array([ [-7], [1], [0], [3], [1], [-1]])\n",
        "print(f\"Entered function is f = \\n\" ,f)\n",
        "#Finding discrete fourier transform by performing F= DFT_A5*transpose(f)\n",
        "\n",
        "F=np.matmul(DFT_S3, f)\n",
        "\n",
        "print(f\"Discrete fourier transform od f is \\n\", np.transpose(F))\n",
        "\n",
        "stop = timeit.default_timer()\n",
        "\n",
        "# program body ends\n",
        "\n",
        "# total time taken\n",
        "print(f\"Runtime of the program is \", stop - start)\n"
      ]
    },
    {
      "cell_type": "code",
      "source": [
        "import timeit\n",
        "import math \n",
        "import numpy as np\n",
        "\n",
        "\n",
        "start = timeit.default_timer()\n",
        "\n",
        "\n",
        "\n",
        "# program body starts\n",
        "\n",
        "#DFT of S_3 matrix\n",
        "DFT_S3 =np.array([[1, 1, 1, 1, 1, 1], \n",
        "                 [1, -1, 1/2, -1/2, 1/2, -1/2],\n",
        "                 [0, 0, -3/4, 3/4, 3/4, -3/4], \n",
        "                 [0, 0, -1,  -1, 1, 1],\n",
        "                 [1, -1, -1/2, -1/2, -1/2, -1/2],\n",
        "                 [1, -1, 1, -1, 1, -1]])\n",
        "\n",
        "#D_A3 matrix\n",
        "\n",
        "D_S2 =np.array([[1 ,1 ,0, 0, 0, 0],\n",
        "                [1 ,-1 ,0, 0, 0, 0],\n",
        "                [0, 0, 1, 1, 0, 0],\n",
        "                [0, 0, 1, -1, 0, 0],\n",
        "                [0, 0, 0, 0, 1, 1],\n",
        "                [0, 0, 0, 0, 1, -1]])\n",
        "\n",
        "\n",
        "#Calculating F_A4 matrix\n",
        "\n",
        "F_S3 = np.matmul(DFT_S3, np.linalg.inv(D_S2))\n",
        "\n",
        "\n",
        "#Defining a function f: S_3 -> S_3\n",
        "f=np.array([ [-7], [1], [0], [3], [1], [-1]])\n",
        "print(f\"Entered function is f = \\n\" ,np.transpose(f))\n",
        "\n",
        "#Finding discrete fourier transform by performing F= DFT_A5*transpose(f)\n",
        "\n",
        "F=np.matmul(np.matmul(F_S3, D_S2), f)\n",
        "print(f\"Discrete fourier transform od f is \\n\", np.transpose(F))\n",
        "\n",
        "stop = timeit.default_timer()\n",
        "\n",
        "# program body ends\n",
        "\n",
        "# total time taken\n",
        "print(f\"Runtime of the program is \", stop - start)"
      ],
      "metadata": {
        "colab": {
          "base_uri": "https://localhost:8080/"
        },
        "id": "lOJTN1mj47uW",
        "outputId": "79300d90-d104-4bfc-cb9a-5a1f9e56e2cd"
      },
      "execution_count": null,
      "outputs": [
        {
          "output_type": "stream",
          "name": "stdout",
          "text": [
            "Entered function is f = \n",
            " [[-7  1  0  3  1 -1]]\n",
            "Discrete fourier transform od f is \n",
            " [[-3.   -8.5   3.75 -3.   -9.5  -9.  ]]\n",
            "Runtime of the program is  0.028831001000000356\n"
          ]
        }
      ]
    }
  ]
}